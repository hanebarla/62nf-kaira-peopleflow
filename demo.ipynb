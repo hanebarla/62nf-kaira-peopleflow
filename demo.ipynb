{
 "metadata": {
  "language_info": {
   "codemirror_mode": {
    "name": "ipython",
    "version": 3
   },
   "file_extension": ".py",
   "mimetype": "text/x-python",
   "name": "python",
   "nbconvert_exporter": "python",
   "pygments_lexer": "ipython3",
   "version": 3
  },
  "orig_nbformat": 2
 },
 "nbformat": 4,
 "nbformat_minor": 2,
 "cells": [
  {
   "cell_type": "code",
   "execution_count": null,
   "metadata": {},
   "outputs": [],
   "source": [
    "!git clone https://github.com/hanebarla/62nf-kaira-peopleflow.git\n",
    "%cd /content/62nf-kaira-peopleflow"
   ]
  },
  {
   "cell_type": "code",
   "execution_count": null,
   "metadata": {},
   "outputs": [],
   "source": [
    "from src.utils import use_cam\n",
    "from src.model import CANNet2s\n",
    "from src.plot import run\n",
    "\n",
    "import IPython\n",
    "from google.colab import output\n",
    "\n",
    "\n",
    "output.register_callback('notebook.run', run)"
   ]
  },
  {
   "cell_type": "code",
   "execution_count": null,
   "metadata": {},
   "outputs": [],
   "source": [
    "use_cam()"
   ]
  }
 ]
}