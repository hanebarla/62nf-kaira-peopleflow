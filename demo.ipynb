{
 "metadata": {
  "language_info": {
   "codemirror_mode": {
    "name": "ipython",
    "version": 3
   },
   "file_extension": ".py",
   "mimetype": "text/x-python",
   "name": "python",
   "nbconvert_exporter": "python",
   "pygments_lexer": "ipython3",
   "version": 3
  },
  "orig_nbformat": 2
 },
 "nbformat": 4,
 "nbformat_minor": 2,
 "cells": [
  {
   "source": [
    "# 使い方\n",
    "1. GPUを使えるようにします。```ランタイム > ランタイムのタイプを変更 > ハードウェアアクセラレータ > GPU ```と設定してください。\n",
    "1. 次にスクリプトを実行します。```ランタイム > すべてのセルを実行(Ctr + F9) ```を実行してください。\n",
    "\n",
    "何かエラーが出たらNFのKaiRA質問フォームまたはissueよりお願いします。"
   ],
   "cell_type": "markdown",
   "metadata": {}
  },
  {
   "cell_type": "code",
   "execution_count": null,
   "metadata": {},
   "outputs": [],
   "source": [
    "import os"
   ]
  },
  {
   "cell_type": "code",
   "execution_count": null,
   "metadata": {},
   "outputs": [],
   "source": [
    "if not os.path.exists(\"/content/62nf-kaira-peopleflow\"):\n",
    "    !git clone https://github.com/hanebarla/62nf-kaira-peopleflow.git\n",
    "%cd /content/62nf-kaira-peopleflow"
   ]
  },
  {
   "cell_type": "code",
   "execution_count": null,
   "metadata": {},
   "outputs": [],
   "source": [
    "from src.utils import use_cam\n",
    "from src.plot import run\n",
    "\n",
    "import IPython\n",
    "from google.colab import output\n",
    "\n",
    "\n",
    "output.register_callback('notebook.run', run)"
   ]
  },
  {
   "cell_type": "code",
   "execution_count": null,
   "metadata": {},
   "outputs": [],
   "source": [
    "use_cam()"
   ]
  }
 ]
}